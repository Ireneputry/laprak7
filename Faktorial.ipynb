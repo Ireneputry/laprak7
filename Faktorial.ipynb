{
 "cells": [
  {
   "cell_type": "code",
   "execution_count": 15,
   "id": "618e13da-1125-450b-8e38-d2121334ae8d",
   "metadata": {},
   "outputs": [
    {
     "name": "stdin",
     "output_type": "stream",
     "text": [
      "n = 0\n"
     ]
    }
   ],
   "source": [
    "n = int(input(\"n =\"))\n",
    "\n",
    "def deret(a):\n",
    "    if a == 0 or a == 1:\n",
    "        return 1\n",
    "    else:\n",
    "        return a * deret(a-1)\n",
    "\n",
    "for i in range(n, 0, -1):\n",
    "    x = deret(i)\n",
    "\n",
    "    print(x, end=\" \")\n",
    "    for j in range(i, 0, -1):\n",
    "        print(j, end=\" \")\n",
    "    print()\n",
    "\n"
   ]
  },
  {
   "cell_type": "code",
   "execution_count": null,
   "id": "5c62c67d-196d-4a8f-8e17-d21834297422",
   "metadata": {},
   "outputs": [],
   "source": []
  },
  {
   "cell_type": "code",
   "execution_count": null,
   "id": "17b8e30f-ec10-4670-81a5-86b722c7a9e9",
   "metadata": {},
   "outputs": [],
   "source": []
  }
 ],
 "metadata": {
  "kernelspec": {
   "display_name": "Python [conda env:base] *",
   "language": "python",
   "name": "conda-base-py"
  },
  "language_info": {
   "codemirror_mode": {
    "name": "ipython",
    "version": 3
   },
   "file_extension": ".py",
   "mimetype": "text/x-python",
   "name": "python",
   "nbconvert_exporter": "python",
   "pygments_lexer": "ipython3",
   "version": "3.12.7"
  }
 },
 "nbformat": 4,
 "nbformat_minor": 5
}
