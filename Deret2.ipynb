{
 "cells": [
  {
   "cell_type": "code",
   "execution_count": 14,
   "id": "52bea98c-e8cb-44c8-b08f-74805570301c",
   "metadata": {},
   "outputs": [
    {
     "name": "stdin",
     "output_type": "stream",
     "text": [
      "tinggi = 5\n",
      "lebar = 4\n"
     ]
    },
    {
     "name": "stdout",
     "output_type": "stream",
     "text": [
      "1 2 3 4 \n",
      "5 6 7 8 \n",
      "9 10 11 12 \n",
      "13 14 15 16 \n",
      "17 18 19 20 \n"
     ]
    }
   ],
   "source": [
    "n = int(input(\"tinggi =\"))\n",
    "z = int(input(\"lebar =\"))\n",
    "\n",
    "def Z(tinggi, lebar):\n",
    "    angka = 1\n",
    "    for i in range(tinggi):\n",
    "        for j in range(lebar):\n",
    "            print(angka, end=\" \")\n",
    "            angka += 1\n",
    "        print()\n",
    "\n",
    "Z(n,z)"
   ]
  },
  {
   "cell_type": "code",
   "execution_count": null,
   "id": "f91387be-9b54-46be-9061-d3f181df4881",
   "metadata": {},
   "outputs": [],
   "source": []
  },
  {
   "cell_type": "code",
   "execution_count": null,
   "id": "bbb46ea4-7ebe-4cc2-a0ec-800d7c725930",
   "metadata": {},
   "outputs": [],
   "source": []
  }
 ],
 "metadata": {
  "kernelspec": {
   "display_name": "Python [conda env:base] *",
   "language": "python",
   "name": "conda-base-py"
  },
  "language_info": {
   "codemirror_mode": {
    "name": "ipython",
    "version": 3
   },
   "file_extension": ".py",
   "mimetype": "text/x-python",
   "name": "python",
   "nbconvert_exporter": "python",
   "pygments_lexer": "ipython3",
   "version": "3.12.7"
  }
 },
 "nbformat": 4,
 "nbformat_minor": 5
}
