{
 "cells": [
  {
   "cell_type": "code",
   "execution_count": 20,
   "id": "0654e361-1a58-47cd-96d9-0302341400c1",
   "metadata": {},
   "outputs": [
    {
     "name": "stdin",
     "output_type": "stream",
     "text": [
      "Input n= 9\n"
     ]
    },
    {
     "name": "stdout",
     "output_type": "stream",
     "text": [
      "Maka prima terdekat < 9 adalah 7\n"
     ]
    }
   ],
   "source": [
    "n = int(input(\"Input n=\"))\n",
    "\n",
    "def prima(angka):\n",
    "    if angka <= 1:\n",
    "     return False\n",
    "    if angka == 2:\n",
    "        return True\n",
    "    if angka % 2 == 0:\n",
    "        return False\n",
    "\n",
    "    for i in range(3, int(angka**0.5+1), 2):\n",
    "        if angka % i == 0:\n",
    "            return False\n",
    "    return True\n",
    "def dekat(n):\n",
    "    for angka in range(n - 1, 1, -1):\n",
    "        if prima(angka):\n",
    "            return angka\n",
    "    return None\n",
    "if prima(n):\n",
    "    print(f\"{n} adalah bilangan prima\")\n",
    "else:\n",
    "    x = dekat(n)\n",
    "    if x is not None:\n",
    "        print(f\"Maka prima terdekat < {n} adalah {x}\")"
   ]
  },
  {
   "cell_type": "code",
   "execution_count": null,
   "id": "f790e587-a14f-4495-b602-4090625986bb",
   "metadata": {},
   "outputs": [],
   "source": []
  },
  {
   "cell_type": "code",
   "execution_count": null,
   "id": "6cc6b5a9-17b8-4165-a9e0-565d4e8fe622",
   "metadata": {},
   "outputs": [],
   "source": []
  }
 ],
 "metadata": {
  "kernelspec": {
   "display_name": "Python [conda env:base] *",
   "language": "python",
   "name": "conda-base-py"
  },
  "language_info": {
   "codemirror_mode": {
    "name": "ipython",
    "version": 3
   },
   "file_extension": ".py",
   "mimetype": "text/x-python",
   "name": "python",
   "nbconvert_exporter": "python",
   "pygments_lexer": "ipython3",
   "version": "3.12.7"
  }
 },
 "nbformat": 4,
 "nbformat_minor": 5
}
